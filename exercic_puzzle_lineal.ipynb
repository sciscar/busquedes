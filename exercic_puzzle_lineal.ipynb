{
 "cells": [
  {
   "cell_type": "markdown",
   "metadata": {},
   "source": [
    "# Exercici puzzle lineal\n",
    "\n",
    "La figura (a) mostra l'estat inicial d'un puzle lineal que consta de 5 caselles: les dues de l'esquerra contenen 2 fitxes blanques (B), la del mig és un espai buit, i les dues de la dreta contenen 2 peces negres (N). La figura (b) mostra l'estat final al que es desitja arribar.\n",
    "\n",
    "![](img/puzzle_lineal.png \"Puzzle lineal\")\n",
    "\n",
    "\n",
    "\n",
    "\n",
    "Les accions que es poden aplicar en aquest problema són:\n",
    "A1. Una fitxa es pot moure a l'espai buit si està al costat de l'espai buit (cost = 1)\n",
    "A2. Una fitxa es pot moure a l'espai buit botant sobre una altra fitxa de qualsevol color (cost =1)\n",
    "A3. Una fitxa es pot moure a l'espai buit botant sobre dues fitxes de qualsevol color (cost =2)\n",
    "\n",
    "A més, cal tenir en compte que les fitxes B solament es poden moure cap a la DRETA, i les fitxes N solament es poden moure cap a l'ESQUERRA.\n",
    "\n",
    "Siga la següent heurística basada en la distància d'una fitxa a la seua zona objectiu. Es defineix “zona objectiu” d'una fitxa a les dues caselles de destinació possibles d'aquesta fitxa. Així, la zona objectiu de les fitxes B són les caselles 4 i 5, i la zona objectiu de les fitxes N són les caselles 1 i 2. La funció ‘h’ aplicada sobre una fitxa que està en una posició determinada (1, 2, 3, 4 o 5) retorna una estimació del cost de moure aqueixa fitxa a la seua zona objectiu. Els valors de ‘h’ sobre cada fitxa i cada posició són:\n",
    "\n",
    "![](img/heuristica_puzzle_lineal.png \"Heurística puzzle lineal\")\n",
    "\n",
    "Per exemple, l'estimació d'una fitxa B que està en la posició 1 té un cost de 2 (h(B1)=2), o l'estimació d'una fitxa N que està en la posició 1 és zero perquè ja està en la seua zona objectiu (h(N1)=0). La funció heurística h(n) aplicada sobre un estat del problema és la suma de les heurístiques per a cada fitxa. Per exemple, donat l'estat BB_NN, el càlcul d'h(n) seria:\n",
    "\n",
    "\n",
    "h(BB_NN) = h(B1) + h(B2) + h(N4) + h(N5) = 2 + 1 + 1 + 2 = 6\n"
   ]
  }
 ],
 "metadata": {
  "language_info": {
   "name": "python"
  }
 },
 "nbformat": 4,
 "nbformat_minor": 2
}
